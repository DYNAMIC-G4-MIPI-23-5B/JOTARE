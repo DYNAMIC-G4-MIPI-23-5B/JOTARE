{
 "cells": [
  {
   "cell_type": "markdown",
   "metadata": {},
   "source": [
    "Ousmane CISSE - KOBANA Johan - DE MYTTANERE Thomas \n",
    "\n",
    "MIPI 23-5B "
   ]
  },
  {
   "cell_type": "markdown",
   "metadata": {},
   "source": [
    "# CODE - ARE DYNAMIC - JOTARE\n",
    " Le code qui suit n'est pas fonctionnel mais formel. Il permet de VISUALISER une modélisation très simple de la propagation et les effets d'un gene dans une population. \n",
    " \n",
    "On définira d'abord les conditions initiales de notre population, de notre gène et de ses effets. Celles-ci seront peu complexes pour simplifier la compréhension.\n",
    "\n",
    "Puis, vous pourrez voir comment évolue cette population et ce gène, d'après les conditions initiales, au fil du temps.\n",
    "\n",
    "La modélisation n'est pas automatique : l'état de la population n'a pas évolué de manière automatique avec des fonctions mais j'ai entré manuellement les valeurs, en ayant calculé au préalable l'évolution de la grille. Voila pourquoi les conditions initiales sont plutôt simples ici. "
   ]
  },
  {
   "cell_type": "markdown",
   "metadata": {},
   "source": [
    "# Introduction"
   ]
  },
  {
   "cell_type": "code",
   "execution_count": 321,
   "metadata": {},
   "outputs": [],
   "source": [
    "import matplotlib.pyplot as plt\n",
    "import numpy as np\n",
    "\n",
    "largeur = 10\n",
    "hauteur = 3"
   ]
  },
  {
   "cell_type": "code",
   "execution_count": 322,
   "metadata": {},
   "outputs": [
    {
     "data": {
      "text/plain": [
       "array([[0., 0., 0., 0., 0., 0., 0., 0., 0., 0.],\n",
       "       [0., 0., 0., 0., 0., 0., 0., 0., 0., 0.],\n",
       "       [0., 0., 0., 0., 0., 0., 0., 0., 0., 0.]])"
      ]
     },
     "execution_count": 322,
     "metadata": {},
     "output_type": "execute_result"
    }
   ],
   "source": [
    "def generate_grille(larg,haut):\n",
    "    \"\"\"\n",
    "    Creer la grille de la largeur de hauteur\n",
    "    \"\"\"\n",
    "    B = np.zeros((haut,larg))\n",
    "    for n in range(larg):\n",
    "        for m in range(haut):\n",
    "            B[m,n]=0\n",
    "    return B\n",
    "\n",
    "generate_grille(largeur,hauteur)"
   ]
  },
  {
   "cell_type": "markdown",
   "metadata": {},
   "source": [
    "=========================================================\n",
    "# Conditions initiales de la modélisation :\n",
    "\n",
    "- On suppose que dans cette espece, c'est entre les 20 et 40 ans de la vie que l'on se reproduit.\n",
    "- population initiale = 30 ans\n",
    "- esperance  = 80 ans maximum pour tout le monde (individus de plus de 80 ans meurent automatiquement)\n",
    "- Il ne peut y avoir que 4 générations qui vivent simultanément.\n",
    "- fert = 2\n",
    "    - Chaque individu d'une population se reproduit avec la même personne (de sa même génération) 2 fois.Chaque couple engendre donc deux enfants. La population double donc.  \n",
    "- gene = 6 \n",
    "    - Le gène se transmet si un seul parent l'a, quelque soit le nombre d'allèles. DONC, il y aura entre (gene/2) et (gene*2) individus EN PLUS qui auront le gène à la fin de CHAQUE ETAPE\n",
    "    - Le gène a 2 conséquences\n",
    "        - un individu porteur vie sa pleine espérance de vie et ne meurt pas prématurément.\n",
    "        - un individu porteur s'accouple en priorité avec un individu non-porteur.\n",
    "\n",
    "### On va ici découper la vie en 4 étapes :\n",
    "- age entre 0 et 20 ans : \n",
    "    - pas de reproduction\n",
    "    - <4% des individus de la génération meurent (sur 20 ans)\n",
    "- age entre 20 et 40 ans : \n",
    "    - seul zone de reproduction : x2 de la population\n",
    "    - <2% des individus de la génération meurent (sur 20 ans)\n",
    "- age entre 40 et 60 ans : \n",
    "    - pas de reproduction\n",
    "    - <12% des individus de la génération meurent\n",
    "- age entre 60 jusqu'à 80 ans: \n",
    "    - pas de reproduction\n",
    "    - 50% de la génération meurent \n",
    "- individus de plus de 80 ans meurent"
   ]
  },
  {
   "cell_type": "markdown",
   "metadata": {},
   "source": [
    "# 0 vie passée (temps =0). \n",
    "- 1 population de 30 personnes dont une part a le gene (1/5)\n",
    "\n",
    "- Une génération fait a chaque fois trois lignes dans la modélisation."
   ]
  },
  {
   "cell_type": "code",
   "execution_count": 332,
   "metadata": {},
   "outputs": [
    {
     "data": {
      "text/plain": [
       "<matplotlib.image.AxesImage at 0x28854f270a0>"
      ]
     },
     "execution_count": 332,
     "metadata": {},
     "output_type": "execute_result"
    },
    {
     "data": {
      "image/png": "[encoded data removed]",
      "text/plain": [
       "<Figure size 432x288 with 1 Axes>"
      ]
     },
     "metadata": {
      "needs_background": "light"
     },
     "output_type": "display_data"
    }
   ],
   "source": [
    "largeur = 10\n",
    "hauteur = 3\n",
    "grille= generate_grille(largeur,hauteur)\n",
    "grille[1,1]=1\n",
    "\n",
    "#porteur de gènes\n",
    "for e in range(int(largeur/3)):\n",
    "    grille[1,e]=2\n",
    "    grille[2,e]=2\n",
    "    \n",
    "plt.imshow(grille)"
   ]
  },
  {
   "cell_type": "markdown",
   "metadata": {},
   "source": [
    "- genes : jaune\n",
    "- normal : violet"
   ]
  },
  {
   "cell_type": "markdown",
   "metadata": {},
   "source": [
    "# 1/4 de vie (20 ans): \n",
    "## attention petit changement de couleur"
   ]
  },
  {
   "cell_type": "markdown",
   "metadata": {},
   "source": [
    "- Naissance = +0 \n",
    "- Mort = -1 (jaune) : 4% de la population donc un enfant meurt prématurément\n",
    "- Taille population : 29\n",
    "- Nombre porteurs du gène = 6 (bleu) \n",
    "- Proportion = 20% (=6/29)"
   ]
  },
  {
   "cell_type": "code",
   "execution_count": 333,
   "metadata": {},
   "outputs": [
    {
     "data": {
      "text/plain": [
       "<function matplotlib.pyplot.show(close=None, block=None)>"
      ]
     },
     "execution_count": 333,
     "metadata": {},
     "output_type": "execute_result"
    },
    {
     "data": {
      "image/png": "[encoded data removed]",
      "text/plain": [
       "<Figure size 432x288 with 1 Axes>"
      ]
     },
     "metadata": {
      "needs_background": "light"
     },
     "output_type": "display_data"
    }
   ],
   "source": [
    "largeur = 10\n",
    "hauteur = 3\n",
    "grille= generate_grille(largeur,hauteur)\n",
    "\n",
    "#naissance : RIEN \n",
    "\n",
    "# les morts de la génération 1\n",
    "grille[0,largeur-1]=2\n",
    "\n",
    "# porteurs du gene (generation 1)\n",
    "for e in range(int(largeur/3)):\n",
    "    grille[1,e]=1\n",
    "    grille[2,e]=1\n",
    "    \n",
    "\n",
    "\n",
    "plt.imshow(grille)\n",
    "plt.show"
   ]
  },
  {
   "cell_type": "markdown",
   "metadata": {},
   "source": [
    "# 2/4 de vie (40 ans)"
   ]
  },
  {
   "cell_type": "markdown",
   "metadata": {},
   "source": [
    "- Naissance = +30 \n",
    "- Mort = -2 (jaune) : un en moins dans chaque génération\n",
    "- Taille population : 57\n",
    "- Nombre porteurs du gène = 18 (bleu : +12 avec les naissances) \n",
    "    - ca veut dire qu'ici les porteurs de la G1 se sont TOUS reproduit avec un non-porteur et chaque couple a eu 2 enfants porteurs, ce qui double le nombre de porteurs dans la G2\n",
    "- Proportion = 31.5%"
   ]
  },
  {
   "cell_type": "code",
   "execution_count": 334,
   "metadata": {},
   "outputs": [
    {
     "data": {
      "text/plain": [
       "<function matplotlib.pyplot.show(close=None, block=None)>"
      ]
     },
     "execution_count": 334,
     "metadata": {},
     "output_type": "execute_result"
    },
    {
     "data": {
      "image/png": "[encoded data removed]",
      "text/plain": [
       "<Figure size 432x288 with 1 Axes>"
      ]
     },
     "metadata": {
      "needs_background": "light"
     },
     "output_type": "display_data"
    }
   ],
   "source": [
    "#NAISSANCES\n",
    "largeur = 10\n",
    "hauteur = 3\n",
    "hauteur*=2\n",
    "grille= generate_grille(largeur,hauteur)\n",
    "\n",
    "for e in range(largeur):\n",
    "    grille[hauteur-1,e]=0\n",
    "    grille[hauteur-2,e]=0\n",
    "    \n",
    "# LES MORTS\n",
    "#génération1\n",
    "grille[0,largeur-1]=2\n",
    "grille[1,largeur-1]=2\n",
    "\n",
    "#generation2\n",
    "grille[4,largeur-1]=2\n",
    "\n",
    "# porteurs du gene (generation 1)\n",
    "for g1 in range(int(largeur/3)):\n",
    "    grille[1,g1]=1\n",
    "    grille[2,g1]=1\n",
    "\n",
    "# porteurs du gene (generation 2)\n",
    "for g2 in range(6):\n",
    "    grille[4,g2]=1\n",
    "    grille[5,g2]=1\n",
    "\n",
    "#affichage\n",
    "plt.imshow(grille)\n",
    "plt.show"
   ]
  },
  {
   "cell_type": "markdown",
   "metadata": {},
   "source": [
    "# 3/4 de vie (60 ans)"
   ]
  },
  {
   "cell_type": "markdown",
   "metadata": {},
   "source": [
    "- Naissance = +30 \n",
    "- Mort = -5 (jaune) : -3 pour la G1, -1 pour la G2, -1 pour la G3\n",
    "- Taille population : 82\n",
    "- Nombre porteurs du gène = 42 (vert : +24 avec les naissances) \n",
    "    - ca veut dire qu'ici les porteurs de la G2 se sont reproduits avec tout le monde (et les non-porteurs inclus) et maintenant la G3 ne contient que des porteurs du gène\n",
    "- Proportion = 51.2%"
   ]
  },
  {
   "cell_type": "code",
   "execution_count": 335,
   "metadata": {},
   "outputs": [
    {
     "data": {
      "text/plain": [
       "<function matplotlib.pyplot.show(close=None, block=None)>"
      ]
     },
     "execution_count": 335,
     "metadata": {},
     "output_type": "execute_result"
    },
    {
     "data": {
      "image/png": "[encoded data removed]",
      "text/plain": [
       "<Figure size 432x288 with 1 Axes>"
      ]
     },
     "metadata": {
      "needs_background": "light"
     },
     "output_type": "display_data"
    }
   ],
   "source": [
    "#NAISSANCES\n",
    "largeur = 10\n",
    "hauteur = 3\n",
    "hauteur*=3\n",
    "grille= generate_grille(largeur,hauteur)\n",
    "\n",
    "for e in range(largeur):\n",
    "    grille[hauteur-1,e]=0\n",
    "    grille[hauteur-2,e]=0\n",
    "    \n",
    "# LES MORTS\n",
    "#génération 1 :\n",
    "grille[0,largeur-1]=2\n",
    "grille[0,largeur-2]=2\n",
    "grille[1,largeur-1]=2\n",
    "grille[1,largeur-2]=2\n",
    "grille[2,largeur-1]=2\n",
    "\n",
    "#génération 2 :\n",
    "grille[4,largeur-1]=2\n",
    "grille[5,largeur-1]=2\n",
    "\n",
    "#génération 3 :\n",
    "grille[6,largeur-2]=2\n",
    "# PORTEURS DU GENE (GENERATION 1)\n",
    "for g1 in range(int(largeur/3)):\n",
    "    grille[1,g1]=1\n",
    "    grille[2,g1]=1\n",
    "\n",
    "# PORTEURS DU GENE (GENERATION 2)\n",
    "for g2 in range(6):\n",
    "    grille[4,g2]=1\n",
    "    grille[5,g2]=1\n",
    "    \n",
    "# PORTEURS DU GENE (GENERATION 3) : \n",
    "for g3 in range(largeur):\n",
    "    grille[7,g3]=1\n",
    "    grille[8,g3]=1\n",
    "for g3 in range(4):\n",
    "    grille[6,g3]=1\n",
    "#AFFICHAGE : \n",
    "plt.imshow(grille)\n",
    "plt.show"
   ]
  },
  {
   "cell_type": "markdown",
   "metadata": {},
   "source": [
    "# 1 vie (80 ans)"
   ]
  },
  {
   "cell_type": "markdown",
   "metadata": {},
   "source": [
    "- Naissance = +30 \n",
    "- Mort = -5 (jaune) : -13 pour la G1, -3 pour la G2, 0 pour la G4 !\n",
    "- Taille population : 93\n",
    "- Nombre porteurs du gène = 70 (vert : +30 avec les naissances) \n",
    "    - ca veut dire qu'ici les porteurs de la G2 se sont reproduits avec tout le monde (et les non-porteurs inclus) et maintenant la G3 ne contient que des porteurs du gène\n",
    "- Proportion = 75%"
   ]
  },
  {
   "cell_type": "code",
   "execution_count": 336,
   "metadata": {},
   "outputs": [
    {
     "data": {
      "text/plain": [
       "<function matplotlib.pyplot.show(close=None, block=None)>"
      ]
     },
     "execution_count": 336,
     "metadata": {},
     "output_type": "execute_result"
    },
    {
     "data": {
      "image/png": "[encoded data removed]",
      "text/plain": [
       "<Figure size 432x288 with 1 Axes>"
      ]
     },
     "metadata": {
      "needs_background": "light"
     },
     "output_type": "display_data"
    }
   ],
   "source": [
    "#NAISSANCES\n",
    "largeur = 10\n",
    "hauteur = 3\n",
    "hauteur*=4\n",
    "grille= generate_grille(largeur,hauteur)\n",
    "\n",
    "for e in range(largeur):\n",
    "    grille[hauteur-1,e]=0\n",
    "    grille[hauteur-2,e]=0\n",
    "    \n",
    "# LES MORTS\n",
    "#génération 1 :\n",
    "for m1 in range(4,largeur):\n",
    "    grille[0,m1]=2\n",
    "    grille[1,m1]=2\n",
    "    grille[2,m1]=2\n",
    "\n",
    "#génération 2 :\n",
    "grille[3,largeur-1]=2\n",
    "grille[3,largeur-2]=2\n",
    "grille[4,largeur-1]=2\n",
    "grille[4,largeur-2]=2\n",
    "grille[5,largeur-1]=2\n",
    "\n",
    "#génération 3 :\n",
    "grille[6,largeur-2]=2\n",
    "grille[6,largeur-1]=2\n",
    "\n",
    "# PORTEURS DU GENE (GENERATION 1)\n",
    "for g1 in range(int(largeur/3)):\n",
    "    grille[1,g1]=1\n",
    "    grille[2,g1]=1\n",
    "    \n",
    "for g1 in range(1,2):\n",
    "    grille[g1,1]=2\n",
    "    grille[g1,2]=2\n",
    "\n",
    "    \n",
    "# PORTEURS DU GENE (GENERATION 2)\n",
    "for g2 in range(6):\n",
    "    grille[4,g2]=1\n",
    "    grille[5,g2]=1\n",
    "    \n",
    "# PORTEURS DU GENE (GENERATION 3) : \n",
    "for g3 in range(largeur):\n",
    "    grille[7,g3]=1\n",
    "    grille[8,g3]=1\n",
    "for g3 in range(4):\n",
    "    grille[6,g3]=1\n",
    "    \n",
    "#PORTEURS DU GENE (GENERATION 4) :\n",
    "for g3 in range(largeur):\n",
    "    grille[9,g3]=1\n",
    "    grille[10,g3]=1\n",
    "    grille[11,g3]=1\n",
    "    \n",
    "#AFFICHAGE : \n",
    "plt.imshow(grille)\n",
    "plt.show"
   ]
  },
  {
   "cell_type": "markdown",
   "metadata": {},
   "source": [
    "# Bilan au bout de 80 ans (une vie):\n",
    "\n",
    "## génération 1 :\n",
    "\n",
    "- Elle a maintenant entre 60 et 80 ans.\n",
    "- 60% sont morts déja.\n",
    "- Il reste 10 survivants.\n",
    "    - 4 d'entre eux sont porteurs du gène: ils ont moins de 80 ans et mourront à EXACTEMENT 80 ans.\n",
    "    - 6 d'entre eux ne sont pas porteurs du gène et mourront à 80 ans ou avant.\n",
    "- 40% portent le gène\n",
    "\n",
    "## génération 2 : \n",
    "- elle a maintenant entre 40 et 60 ans.\n",
    "- 20% sont morts soit 5 personnes.\n",
    "- Il reste 25 survivants\n",
    "    - 12 d'entre eux sont porteurs du gène et mourront à EXACTEMENT 80 ans.\n",
    "    - 13 d'entre ne sont pas porteurs du gène et mourront à 80 ans ou avant.\n",
    "    \n",
    "- Prèsque 50% portent le gène\n",
    "\n",
    "## génération 3:\n",
    "- elle a entre 20 et 40 ans \n",
    "- dans les 20 dernieres années, elle a concu la génération 1 (qu'on verra juste après)\n",
    "- 2 sont morts soit moins de 7%.\n",
    "- Il reste 28 survivants\n",
    "    - 24 d'entre eux sont porteurs du gène et mourront à EXACTEMENT 80 ans.\n",
    "    - 4 d'entre ne sont pas porteurs du gène et mourront à 80 ans ou avant.\n",
    "- Près de 86% portent le gène.\n",
    "\n",
    "## génération 4 :\n",
    "\n",
    "- elle a entre 0 et 20 ans \n",
    "- Aucun ne sont morts : \n",
    "    - toute cette génération est immunisé par le gène contre la mort prématurée\n",
    "- 100% portent le gène."
   ]
  },
  {
   "cell_type": "markdown",
   "metadata": {},
   "source": [
    " # Ce qui va se passer ensuite :\n",
    " \n",
    " Maintenant la suite est automatique : \n",
    " - les générations 1, 2 et 3 vont mourir au fil du temps. Les tous derniers individus à vivre seront ceux qui porte le gène et quelques non-porteurs chanceux (il y en aura de moins en moins d'ailleurs).\n",
    " - la génération 4 va maintenant engendrer une génération qui, comme elle, porte à 100% le gène. \n",
    " - Dans ces conditions, toutes les générations de 4 à +infini ne mourront jamais prématurément. Ce gène semble avantageux pour notre population."
   ]
  },
  {
   "cell_type": "markdown",
   "metadata": {},
   "source": [
    "# Legere modification : \n",
    "- Maintenant, si on redéfinit une caractéristique du gène comme suit ; \n",
    "    - Le gène a 2 conséquences\n",
    "        - un individu porteur vie sa pleine espérance de vie et ne meurt pas prématurément.\n",
    "        - un individu porteur s'accouple SEULEMENT avec un individu non-porteur.\n",
    "\n",
    "De, la il va se passer une chose particulière :\n",
    "- à partir de la génération 4, les individus ne peuvent plus se reproduire car il n'y a que des individus porteurs et que ceux-ci ne peuvent pas se reproduire entre eux. AINSI, la population va s'éteindre dès la génération 4 (qui vivra jusqu'à EXACTEMENT 80 ans et mourra sans laisser de descendance)."
   ]
  },
  {
   "cell_type": "markdown",
   "metadata": {},
   "source": [
    "# Paramètres à préparer pour créer des fonctions modélisantes: \n",
    "- taille de la population à l'origine\n",
    "- nombre de porteurs à l'origine\n",
    "- esperance de vie fixe et générale\n",
    "- l'esperance de vie aléatoire entre 0 et 100 ans : esp (pour chaque individu et qui s'approche généralement mais pas toujours de l'esperance générale)\n",
    "\n",
    "\n",
    "- conditions de reproduction :\n",
    "    - fécondité (entre 0 et 5) : nombre d'enfants possible\n",
    "    - possibilité d'une reproduction inter générations? \n",
    "    - age de reproduction\n",
    "\n",
    "\n",
    "- Effets du gène sur : \n",
    "    - la fécondité du porteur  (ne fait rien, augmente, diminue ou fixe à une valeur précise) \n",
    "    - l'esperance de vie du porteur (ne fait rien, augmente, diminue ou fixe à une valeur précise) "
   ]
  },
  {
   "cell_type": "markdown",
   "metadata": {},
   "source": [
    " # Fonctions  :\n",
    "\n",
    "- Une fonction (ou une classe) qui définit un individu normal avec : \n",
    "    - esp au hasard qui est entre 0 et 100 ans (int)\n",
    "    - fecondité fixe entre 1 et 5 (int)\n",
    "    - son sexe au hasard (str ou int)\n",
    "    - un age qui évolue au fil du temps (et qui vaut 0 à la naissance)\n",
    "\n",
    "\n",
    "- Une fonction (ou une classe) qui définit un individu porteur avec les caractéristiques influencés par le gène: \n",
    "    - esp au hasard qui est entre 0 et 100 ans (int)\n",
    "    - fecondité fixe entre 1 et 5 (int) et qui peut dépendre du partenaire (porteur ou non)\n",
    "    - son sexe au hasard (str ou int)\n",
    "    - un age qui évolue au fil du temps (et qui vaut 0 à la naissance)\n",
    "\n",
    "\n",
    "- Une fonction (fecondation) qui accouple 2 individus :\n",
    "    - Elle prend en compte la fécondité des 2 individus pour créer un certains nombre d'enfants\n",
    "    - Elle prend en compte la génétique des 2 individus pour la génétique de l'enfant\n",
    "    - Elle crée un (ou plusieurs) individu(s) grâce à l'une des 2 fonctions si dessus\n",
    "\n",
    "\n",
    "- Une fonction qui crée la génération 0 avec les individus NORMAUX et les individus PORTEURS  : \n",
    "    - crée une population d'individus (liste de liste)\n",
    "    - à partir des 2 premieres fonctions (pour creer les individus)\n",
    "    - à partir de la taille de la population à l'origine\n",
    "    - à partir de nombre de porteurs à l'origine\n",
    "\n",
    "\n",
    "- Une fonction (naissance) qui crée la génération naissante (engendrée par la gen. précédente) :\n",
    "    - crée une population d'individus (liste de liste) \n",
    "    - si les individus (de même age) de la génération précédente sont dans l'age de reproduction et que leur fécondité le permet, la fonction cree une population d'individus en accouplant deux individus de la generation precedente (fonction fecondation)\n",
    "    \n",
    "    \n",
    "- Une fonction (génération) (G) qui actualise une génération (G-1) pour l'emmener à l'étape suivante (G):\n",
    "    - actualise l'age de tous les individus de la génération\n",
    "    - accouple, si possible, les individus de même age (avec la fonction naissance) \n",
    "    - tue les individus dont l'age atteint l'esperance de vie\n",
    "    \n",
    "    - retiens les donnéees de la génération : \n",
    "        - taille de la population\n",
    "        - morts\n",
    "        - nbre porteurs du gène vivants\n",
    "        - nbre porteurs du gène morts\n",
    "        - proportions\n",
    "    - Il y aura donc entre 3 et 5 fonction générations\n",
    "\n",
    "\n",
    "- Une fonction qui fait tourner les fonctions générations au fil du temps jusqu'à la fin de la modélisation\n",
    "\n",
    "\n",
    "- Une fonction qui affiche la modélisation au fil du temps "
   ]
  },
  {
   "cell_type": "code",
   "execution_count": null,
   "metadata": {},
   "outputs": [],
   "source": []
  }
 ],
 "metadata": {
  "kernelspec": {
   "display_name": "Python 3",
   "language": "python",
   "name": "python3"
  },
  "language_info": {
   "codemirror_mode": {
    "name": "ipython",
    "version": 3
   },
   "file_extension": ".py",
   "mimetype": "text/x-python",
   "name": "python",
   "nbconvert_exporter": "python",
   "pygments_lexer": "ipython3",
   "version": "3.8.5"
  }
 },
 "nbformat": 4,
 "nbformat_minor": 4
}
